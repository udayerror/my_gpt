{
 "cells": [
  {
   "cell_type": "code",
   "execution_count": 1,
   "id": "212cbcf1",
   "metadata": {},
   "outputs": [
    {
     "ename": "SyntaxError",
     "evalue": "invalid syntax (2367296563.py, line 79)",
     "output_type": "error",
     "traceback": [
      "\u001b[1;36m  Cell \u001b[1;32mIn[1], line 79\u001b[1;36m\u001b[0m\n\u001b[1;33m    if name_tag:-\u001b[0m\n\u001b[1;37m                 ^\u001b[0m\n\u001b[1;31mSyntaxError\u001b[0m\u001b[1;31m:\u001b[0m invalid syntax\n"
     ]
    }
   ],
   "source": [
    "import requests\n",
    "from bs4 import BeautifulSoup\n",
    "import csv\n",
    "\n",
    "url = \"https://www.skedoc.com/hyderabad/hospital/osmania-general-hospital-afzalgunj\"\n",
    "hospital_links = [\n",
    "    \"https://www.skedoc.com/hyderabad/hospital/sowmya-hospital-musheerabad\",\n",
    "    \"https://www.skedoc.com/hyderabad/hospital/gandhi-hospital-musheerabad\",\n",
    "    # Add the rest of the hospital links here\n",
    "]\n",
    "\n",
    "all_doctors = []\n",
    "\n",
    "# Loop through each hospital link\n",
    "for linkd in hospital_links:\n",
    "    response = requests.get(linkd)\n",
    "    soup = BeautifulSoup(response.text, 'html.parser')\n",
    "    one = soup.find('div', class_='mt--2')\n",
    "    two = one.find_all('div', class_='mt-2 doctor-card ng-star-inserted')\n",
    "    for card in two:\n",
    "        # Find the name\n",
    "        doctor_links = card.find_all('a')\n",
    "    # Extract the text (doctor names) from each anchor tag and append to the list\n",
    "        for link in doctor_links:\n",
    "            doctor_names.append(link.text.strip())\n",
    "\n",
    "        # Find the qualification\n",
    "        qualification_tag = card.find('p', class_='doctor-qualification')\n",
    "        if qualification_tag:\n",
    "            qualification = qualification_tag.text.strip()\n",
    "        else:\n",
    "            qualification = \"Qualification not found\"\n",
    "\n",
    "        # Find the link\n",
    "        link_tag = card.find('a', href=True)\n",
    "        if link_tag:\n",
    "            doctor_link = \"skedoc.com\" + link_tag['href']\n",
    "        else:\n",
    "            doctor_link = \"Link not found\"\n",
    "\n",
    "        # Find the specialization\n",
    "        specialization_tag = card.find('h3', class_='doctor-specialization')\n",
    "        if specialization_tag:\n",
    "            specialization = specialization_tag.text.strip()\n",
    "        else:\n",
    "            specialization = \"Specialization not found\"\n",
    "\n",
    "        # Append doctor details to the list\n",
    "        all_doctors.append({\n",
    "            'Name': doctor_name,\n",
    "            'Qualification': qualification,\n",
    "            'Specialization': specialization,\n",
    "            'Link': doctor_link\n",
    "        })\n",
    "\n",
    "# Print the extracted doctor details for debugging\n",
    "for doctor in all_doctors:\n",
    "    print(doctor)\n",
    "#doctor_names\n",
    "# Write the extracted doctor details to a CSV file\n",
    "csv_file = \"hospital_doctors.csv\"\n",
    "with open(csv_file, 'w', newline='', encoding='utf-8') as file:\n",
    "    writer = csv.DictWriter(file, fieldnames=['Name', 'Qualification', 'Specialization', 'Link'])\n",
    "    writer.writeheader()\n",
    "    writer.writerows(all_doctors)\n",
    "\n",
    "print(\"CSV file written successfully!\")\n"
   ]
  }
 ],
 "metadata": {
  "kernelspec": {
   "display_name": "Python 3 (ipykernel)",
   "language": "python",
   "name": "python3"
  },
  "language_info": {
   "codemirror_mode": {
    "name": "ipython",
    "version": 3
   },
   "file_extension": ".py",
   "mimetype": "text/x-python",
   "name": "python",
   "nbconvert_exporter": "python",
   "pygments_lexer": "ipython3",
   "version": "3.11.5"
  }
 },
 "nbformat": 4,
 "nbformat_minor": 5
}
